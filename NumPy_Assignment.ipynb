{
  "nbformat": 4,
  "nbformat_minor": 0,
  "metadata": {
    "colab": {
      "provenance": []
    },
    "kernelspec": {
      "name": "python3",
      "display_name": "Python 3"
    },
    "language_info": {
      "name": "python"
    }
  },
  "cells": [
    {
      "cell_type": "markdown",
      "source": [
        "Theoretical Questions:   \n",
        "\n",
        "word link : https://1drv.ms/w/c/690b3368af1a3158/EVFqR7Pa5RdJih3bmN3dx18BspZZF5WJYRed_EcVJOEU4A?e=0BdYXb"
      ],
      "metadata": {
        "id": "KYoerUY9o2c5"
      }
    },
    {
      "cell_type": "markdown",
      "source": [
        "#1. Create a 3x3 NumPy array with random integers between 1 and 100. Then, interchange its rows and columns."
      ],
      "metadata": {
        "id": "FtTHsxULpGNN"
      }
    },
    {
      "cell_type": "code",
      "source": [
        "import numpy as np\n",
        "\n",
        "# Create a 3x3 NumPy array with random integers between 1 and 100\n",
        "arr = np.random.randint(1, 101, (3, 3))\n",
        "\n",
        "# Interchange the rows and columns\n",
        "interchanged_arr = arr.T\n",
        "\n",
        "# Print the original and interchanged arrays\n",
        "print(\"Original array:\")\n",
        "print(arr)\n",
        "print(\"\\nInterchanged array:\")\n",
        "print(interchanged_arr)\n"
      ],
      "metadata": {
        "colab": {
          "base_uri": "https://localhost:8080/"
        },
        "id": "49zELYHApPda",
        "outputId": "e58fa289-1116-4dc1-d0c7-91bdc56df5f8"
      },
      "execution_count": 1,
      "outputs": [
        {
          "output_type": "stream",
          "name": "stdout",
          "text": [
            "Original array:\n",
            "[[77 47 55]\n",
            " [59 38 87]\n",
            " [30 63 48]]\n",
            "\n",
            "Interchanged array:\n",
            "[[77 59 30]\n",
            " [47 38 63]\n",
            " [55 87 48]]\n"
          ]
        }
      ]
    },
    {
      "cell_type": "markdown",
      "source": [
        "# 2. Generate a 1D NumPy array with 10 elements. Reshape it into a 2x5 array, then into a 5x2 array."
      ],
      "metadata": {
        "id": "3u-8iqT4pkwQ"
      }
    },
    {
      "cell_type": "code",
      "source": [
        "import numpy as np\n",
        "\n",
        "# Generate a 1D NumPy array with 10 elements\n",
        "arr = np.arange(10, dtype=int)\n",
        "\n",
        "# Reshape it into a 2x5 array\n",
        "arr_2x5 = arr.reshape(2, 5)\n",
        "\n",
        "# Reshape it into a 5x2 array\n",
        "arr_5x2 = arr.reshape(5, 2)\n",
        "\n",
        "# Print the arrays\n",
        "print(\"1D Array:\")\n",
        "print(arr)\n",
        "print(\"\\n2x5 Array:\")\n",
        "print(arr_2x5)\n",
        "print(\"\\n5x2 Array:\")\n",
        "print(arr_5x2)"
      ],
      "metadata": {
        "colab": {
          "base_uri": "https://localhost:8080/"
        },
        "id": "ZaDqcwDNpbFG",
        "outputId": "beccd641-7a2e-41c4-987c-368c5fa6d18c"
      },
      "execution_count": 2,
      "outputs": [
        {
          "output_type": "stream",
          "name": "stdout",
          "text": [
            "1D Array:\n",
            "[0 1 2 3 4 5 6 7 8 9]\n",
            "\n",
            "2x5 Array:\n",
            "[[0 1 2 3 4]\n",
            " [5 6 7 8 9]]\n",
            "\n",
            "5x2 Array:\n",
            "[[0 1]\n",
            " [2 3]\n",
            " [4 5]\n",
            " [6 7]\n",
            " [8 9]]\n"
          ]
        }
      ]
    },
    {
      "cell_type": "markdown",
      "source": [
        "# 3. Create a 4x4 NumPy array with random float values. Add a border of zeros around it, resulting in a 6x6 array."
      ],
      "metadata": {
        "id": "XuIeoa3EqFQg"
      }
    },
    {
      "cell_type": "code",
      "source": [
        "import numpy as np\n",
        "\n",
        "# Create a 4x4 NumPy array with random float values\n",
        "arr = np.random.rand(4, 4)\n",
        "\n",
        "# Add a border of zeros around the array\n",
        "border_width = 1\n",
        "arr_with_border = np.pad(arr, pad_width=border_width, mode='constant', constant_values=0)\n",
        "\n",
        "# Print the original and the array with the border\n",
        "print(\"Original array:\")\n",
        "print(arr)\n",
        "print(\"\\nArray with border of zeros:\")\n",
        "print(arr_with_border)\n"
      ],
      "metadata": {
        "colab": {
          "base_uri": "https://localhost:8080/"
        },
        "id": "7XiyAqqDqCgF",
        "outputId": "ee877eca-19d4-4e7c-b0fe-4c38c06adbee"
      },
      "execution_count": 3,
      "outputs": [
        {
          "output_type": "stream",
          "name": "stdout",
          "text": [
            "Original array:\n",
            "[[0.30484734 0.22252817 0.74813581 0.90840431]\n",
            " [0.02586078 0.55125005 0.54157454 0.16467347]\n",
            " [0.95273699 0.86310729 0.53726894 0.20438526]\n",
            " [0.86705967 0.28318723 0.69967665 0.9660094 ]]\n",
            "\n",
            "Array with border of zeros:\n",
            "[[0.         0.         0.         0.         0.         0.        ]\n",
            " [0.         0.30484734 0.22252817 0.74813581 0.90840431 0.        ]\n",
            " [0.         0.02586078 0.55125005 0.54157454 0.16467347 0.        ]\n",
            " [0.         0.95273699 0.86310729 0.53726894 0.20438526 0.        ]\n",
            " [0.         0.86705967 0.28318723 0.69967665 0.9660094  0.        ]\n",
            " [0.         0.         0.         0.         0.         0.        ]]\n"
          ]
        }
      ]
    },
    {
      "cell_type": "markdown",
      "source": [
        "# 4. Using NumPy, create an array of integers from 10 to 60 with a step of 5."
      ],
      "metadata": {
        "id": "iqOGrfVlqnau"
      }
    },
    {
      "cell_type": "code",
      "source": [
        "import numpy as np\n",
        "\n",
        "# Create an array of integers from 10 to 60 with a step of 5\n",
        "arr = np.arange(10, 61, 5)\n",
        "\n",
        "# Print the array\n",
        "print(arr)\n"
      ],
      "metadata": {
        "colab": {
          "base_uri": "https://localhost:8080/"
        },
        "id": "-FrSmwjAqetU",
        "outputId": "c3c87695-9763-42ab-d020-228b9261a50a"
      },
      "execution_count": 4,
      "outputs": [
        {
          "output_type": "stream",
          "name": "stdout",
          "text": [
            "[10 15 20 25 30 35 40 45 50 55 60]\n"
          ]
        }
      ]
    },
    {
      "cell_type": "markdown",
      "source": [
        "# 5. Create a NumPy array of strings ['python', 'numpy', 'pandas']. Apply different case transformations (uppercase, lowercase, title case, etc.) to each element."
      ],
      "metadata": {
        "id": "3NIm9RtRq8G8"
      }
    },
    {
      "cell_type": "code",
      "source": [
        "import numpy as np\n",
        "\n",
        "# Create a NumPy array of strings\n",
        "arr = np.array(['python', 'numpy', 'pandas'])\n",
        "\n",
        "# Apply different case transformations to each element\n",
        "uppercase_arr = np.char.upper(arr)\n",
        "lowercase_arr = np.char.lower(arr)\n",
        "titlecase_arr = np.char.title(arr)\n",
        "\n",
        "# Print the original and transformed arrays\n",
        "print(\"Original array:\")\n",
        "print(arr)\n",
        "print(\"\\nUppercase array:\")\n",
        "print(uppercase_arr)\n",
        "print(\"\\nLowercase array:\")\n",
        "print(lowercase_arr)\n",
        "print(\"\\nTitlecase array:\")\n",
        "print(titlecase_arr)\n",
        "\n"
      ],
      "metadata": {
        "colab": {
          "base_uri": "https://localhost:8080/"
        },
        "id": "iWSmZIuiq6xi",
        "outputId": "e2642330-c919-4057-b76b-818c8fd0bca0"
      },
      "execution_count": 5,
      "outputs": [
        {
          "output_type": "stream",
          "name": "stdout",
          "text": [
            "Original array:\n",
            "['python' 'numpy' 'pandas']\n",
            "\n",
            "Uppercase array:\n",
            "['PYTHON' 'NUMPY' 'PANDAS']\n",
            "\n",
            "Lowercase array:\n",
            "['python' 'numpy' 'pandas']\n",
            "\n",
            "Titlecase array:\n",
            "['Python' 'Numpy' 'Pandas']\n"
          ]
        }
      ]
    },
    {
      "cell_type": "markdown",
      "source": [
        "# 6. Generate a NumPy array of words. Insert a space between each character of every word in the array."
      ],
      "metadata": {
        "id": "E0uo67s2rRtB"
      }
    },
    {
      "cell_type": "code",
      "source": [
        "import  numpy as np\n",
        "\n",
        "# Generate a NumPy array of words\n",
        "words = np.array(['python', 'numpy', 'pandas'])\n",
        "\n",
        "# Insert a space between each character of every word\n",
        "spaced_words = np.char.join(' ', words)\n",
        "\n",
        "# Print the spaced words\n",
        "print(spaced_words)"
      ],
      "metadata": {
        "colab": {
          "base_uri": "https://localhost:8080/"
        },
        "id": "RscJXIcmrMrj",
        "outputId": "dab51145-cf69-4687-964d-65848290c8c0"
      },
      "execution_count": 6,
      "outputs": [
        {
          "output_type": "stream",
          "name": "stdout",
          "text": [
            "['p y t h o n' 'n u m p y' 'p a n d a s']\n"
          ]
        }
      ]
    },
    {
      "cell_type": "markdown",
      "source": [
        "# 7. Create two 2D NumPy arrays and perform element-wise addition, subtraction, multiplication, and division."
      ],
      "metadata": {
        "id": "1PKjKwTGrjaK"
      }
    },
    {
      "cell_type": "code",
      "source": [
        "import numpy as np\n",
        "\n",
        "# Create two 2D NumPy arrays\n",
        "arr1 = np.array([[1, 2], [3, 4]])\n",
        "arr2 = np.array([[5, 6], [7, 8]])\n",
        "\n",
        "# Perform element-wise addition\n",
        "addition_result = np.add(arr1, arr2)\n",
        "\n",
        "# Perform element-wise subtraction\n",
        "subtraction_result = np.subtract(arr1, arr2)\n",
        "\n",
        "# Perform element-wise multiplication\n",
        "multiplication_result = np.multiply(arr1, arr2)\n",
        "\n",
        "# Perform element-wise division\n",
        "division_result = np.divide(arr1, arr2)\n",
        "\n",
        "# Print the results\n",
        "print(\"Addition Result:\")\n",
        "print(addition_result)\n",
        "print(\"\\nSubtraction Result:\")\n",
        "print(subtraction_result)\n",
        "print(\"\\nMultiplication Result:\")\n",
        "print(multiplication_result)\n",
        "print(\"\\nDivision Result:\")\n",
        "print(division_result)"
      ],
      "metadata": {
        "colab": {
          "base_uri": "https://localhost:8080/"
        },
        "id": "a1UjTwBirgLW",
        "outputId": "92f7b6b6-f671-4dc1-f512-580e39ad0363"
      },
      "execution_count": 7,
      "outputs": [
        {
          "output_type": "stream",
          "name": "stdout",
          "text": [
            "Addition Result:\n",
            "[[ 6  8]\n",
            " [10 12]]\n",
            "\n",
            "Subtraction Result:\n",
            "[[-4 -4]\n",
            " [-4 -4]]\n",
            "\n",
            "Multiplication Result:\n",
            "[[ 5 12]\n",
            " [21 32]]\n",
            "\n",
            "Division Result:\n",
            "[[0.2        0.33333333]\n",
            " [0.42857143 0.5       ]]\n"
          ]
        }
      ]
    },
    {
      "cell_type": "markdown",
      "source": [
        "# 8. Use NumPy to create a 5x5 identity matrix, then extract its diagonal elements."
      ],
      "metadata": {
        "id": "u1FlpTlSr05Y"
      }
    },
    {
      "cell_type": "code",
      "source": [
        "import numpy as np\n",
        "\n",
        "# Create a 5x5 identity matrix\n",
        "identity_matrix = np.eye(5)\n",
        "\n",
        "# Extract the diagonal elements\n",
        "diagonal_elements = np.diag(identity_matrix)\n",
        "\n",
        "# Print the identity matrix and the diagonal elements\n",
        "print(\"Identity Matrix:\")\n",
        "print(identity_matrix)\n",
        "print(\"\\nDiagonal Elements:\")\n",
        "print(diagonal_elements)\n"
      ],
      "metadata": {
        "colab": {
          "base_uri": "https://localhost:8080/"
        },
        "id": "FOg11ABgrzBD",
        "outputId": "9c6c1cdd-2852-498a-d4b4-7b6eb8ff62f5"
      },
      "execution_count": 8,
      "outputs": [
        {
          "output_type": "stream",
          "name": "stdout",
          "text": [
            "Identity Matrix:\n",
            "[[1. 0. 0. 0. 0.]\n",
            " [0. 1. 0. 0. 0.]\n",
            " [0. 0. 1. 0. 0.]\n",
            " [0. 0. 0. 1. 0.]\n",
            " [0. 0. 0. 0. 1.]]\n",
            "\n",
            "Diagonal Elements:\n",
            "[1. 1. 1. 1. 1.]\n"
          ]
        }
      ]
    },
    {
      "cell_type": "markdown",
      "source": [
        "# 9. Generate a NumPy array of 100 random integers between 0 and 1000. Find and display all prime numbers in this array."
      ],
      "metadata": {
        "id": "u44_JQXzsGeC"
      }
    },
    {
      "cell_type": "code",
      "source": [
        "import numpy as np\n",
        "\n",
        "# Generate a NumPy array of 100 random integers between 0 and 1000\n",
        "arr = np.random.randint(0, 1000, size=100)\n",
        "print(arr)\n",
        "\n",
        "# prime number in this array\n",
        "prime_numbers = []\n",
        "for num in arr:\n",
        "    if num > 1:\n",
        "        for i in range(2, num):\n",
        "            if (num % i) == 0:\n",
        "                break\n",
        "        else:\n",
        "            prime_numbers.append(num)\n",
        "\n",
        "\n",
        "print(\"prime number of above 100 random number is : \", prime_numbers)\n",
        "\n",
        "\n",
        "\n"
      ],
      "metadata": {
        "colab": {
          "base_uri": "https://localhost:8080/"
        },
        "id": "92A5FXopsnTZ",
        "outputId": "4a869084-f344-4ac6-f25a-24ddba9740cf"
      },
      "execution_count": 12,
      "outputs": [
        {
          "output_type": "stream",
          "name": "stdout",
          "text": [
            "[ 95 953 852 541 870 869   5 858 725 350 733 264 936 978 540 369 482 456\n",
            " 453 869 306 822 917 768 544 449 598 586 961 996 111  50 707 701 594 577\n",
            " 661 765 523 454  68 280 731 147 475 848 752 528  41 600 434  97 163 101\n",
            " 289 310 378 701  52 240 526 605 470 663 732 880 461 777  13 244 968 951\n",
            " 275 230 416 513 104 603  68 245   6 932 798 960 575 824 889 549 345 494\n",
            " 124 167 538 197 154 476 108 791 299 927]\n",
            "prime number of above 100 random number is :  [953, 541, 5, 733, 449, 701, 577, 661, 523, 41, 97, 163, 101, 701, 461, 13, 167, 197]\n"
          ]
        }
      ]
    },
    {
      "cell_type": "markdown",
      "source": [
        "# 10. Create a NumPy array representing daily temperatures for a month. Calculate and display the weekly averages."
      ],
      "metadata": {
        "id": "igK3QmPftepO"
      }
    },
    {
      "cell_type": "code",
      "source": [
        "import numpy as np\n",
        "\n",
        "# Step 1: Create the temperature data for a month (30 days)\n",
        "np.random.seed(0)  # For reproducibility\n",
        "daily_temperatures = np.random.randint(0, 35, size=30)  # Random temperatures between 0 and 34\n",
        "\n",
        "# Step 2: Reshape the array into a 2D array where each row represents a week (5 rows, 6 days per week)\n",
        "# Assuming 5 weeks for simplicity, with 6 days each\n",
        "weekly_temperatures = daily_temperatures.reshape(5, 6)\n",
        "\n",
        "# Step 3: Calculate the weekly averages\n",
        "weekly_averages = np.mean(weekly_temperatures, axis=1)\n",
        "\n",
        "# Display the results\n",
        "print(\"Daily temperatures for the month:\")\n",
        "print(daily_temperatures)\n",
        "print(\"\\nWeekly temperatures (reshaped):\")\n",
        "print(weekly_temperatures)\n",
        "print(\"\\nWeekly averages:\")\n",
        "print(weekly_averages)\n"
      ],
      "metadata": {
        "colab": {
          "base_uri": "https://localhost:8080/"
        },
        "id": "BUuoGvPFt3rd",
        "outputId": "a41f4276-7766-4fe1-ea36-62573e42b9ea"
      },
      "execution_count": 13,
      "outputs": [
        {
          "output_type": "stream",
          "name": "stdout",
          "text": [
            "Daily temperatures for the month:\n",
            "[ 0  3  3  9 19 21 23  6 24 24 12  1 23 24 17 25 13  8  9 20 16  5 15  0\n",
            " 18 24 29 19 19 14]\n",
            "\n",
            "Weekly temperatures (reshaped):\n",
            "[[ 0  3  3  9 19 21]\n",
            " [23  6 24 24 12  1]\n",
            " [23 24 17 25 13  8]\n",
            " [ 9 20 16  5 15  0]\n",
            " [18 24 29 19 19 14]]\n",
            "\n",
            "Weekly averages:\n",
            "[ 9.16666667 15.         18.33333333 10.83333333 20.5       ]\n"
          ]
        }
      ]
    },
    {
      "cell_type": "code",
      "source": [],
      "metadata": {
        "id": "2kC5y8qwt-Gc"
      },
      "execution_count": null,
      "outputs": []
    }
  ]
}