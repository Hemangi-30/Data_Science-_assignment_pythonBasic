{
  "nbformat": 4,
  "nbformat_minor": 0,
  "metadata": {
    "colab": {
      "provenance": []
    },
    "kernelspec": {
      "name": "python3",
      "display_name": "Python 3"
    },
    "language_info": {
      "name": "python"
    }
  },
  "cells": [
    {
      "cell_type": "markdown",
      "source": [
        "#  1. Discuss the scenarios where multithreading is preferable to multiprocessing and scenarios where multiprocessing is a better choice.\n",
        "\n",
        "## Scenarios Where Multithreading is Preferable:\n",
        "### I/O-bound tasks:\n",
        "\n",
        "If the task involves waiting for external resources (e.g., network communication, reading/writing to a file, database queries), multithreading can be useful. Threads can work while waiting for I/O operations to complete.\n",
        "Example: Web scraping, network-based applications, file operations, or server handling multiple client requests simultaneously.\n",
        "\n",
        "### Low CPU Utilization:\n",
        "When tasks don't require heavy CPU computations but rather need to handle lightweight parallel tasks, multithreading can be beneficial because threads share memory space.\n",
        "Example: GUI applications where multiple threads can handle user inputs, background processing, and UI rendering without overwhelming CPU resources.\n",
        "\n",
        "### Shared Memory:\n",
        "When tasks need to share large amounts of data between them without the overhead of creating separate memory spaces, threads are preferred since they share the same memory space, unlike processes.\n",
        "Example: Real-time applications like gaming engines where multiple threads can access and modify shared game state without costly inter-process communication.\n",
        "\n",
        "### Limited Memory Usage:\n",
        "Threads are more lightweight than processes since they share the same memory space. For tasks with limited memory requirements, multithreading minimizes memory usage.\n",
        "Example: Mobile apps where memory constraints are a concern, and multiple threads handle tasks like background data loading or animations.\n",
        "\n",
        "## Scenarios Where Multiprocessing is a Better Choice:\n",
        "### CPU-bound tasks:\n",
        "When the task is highly computational (e.g., large matrix calculations, data processing, simulations), multiprocessing is better because each process runs on a separate CPU core, leading to better CPU utilization.\n",
        "Example: Machine learning model training, scientific simulations, or large data processing tasks.\n",
        "\n",
        "### Avoiding Global Interpreter Lock (GIL):\n",
        "In Python, the GIL prevents multiple threads from executing Python bytecode simultaneously, which can limit performance in multithreading for CPU-bound tasks. Multiprocessing avoids this by creating separate processes with their own memory and interpreter.\n",
        "Example: CPU-intensive tasks like image processing, video encoding, or data crunching in Python.\n",
        "\n",
        "### Task Isolation:\n",
        "When tasks need to be isolated from each other (e.g., one failing task shouldn't affect others), multiprocessing is preferred because processes don't share memory space. Each process runs independently.\n",
        "Example: Web servers that isolate worker processes to avoid crashes from one process bringing down the entire application.\n",
        "\n",
        "### Memory-intensive tasks:\n",
        "For tasks that require large amounts of memory or when it's better to split the task into isolated chunks, multiprocessing is a better fit because each process has its own memory space.\n",
        "Example: Processing large datasets where each process handles a portion of the data independently (e.g., parallel processing of large files or images).\n",
        "\n",
        "### Scaling to Multiple Cores:\n",
        "If a system has multiple CPU cores, multiprocessing can take full advantage by distributing tasks across these cores, ensuring maximum CPU utilization.\n",
        "Example: High-performance computing applications like scientific computations, parallel simulations, or rendering.\n",
        "\n"
      ],
      "metadata": {
        "id": "2416VnflpzGB"
      }
    },
    {
      "cell_type": "markdown",
      "source": [
        "# 2. Describe what a process pool is and how it helps in managing multiple processes efficiently.\n",
        "\n",
        "A process pool is a collection of worker processes that are pre-spawned and ready to perform tasks. Instead of creating and destroying processes for each task, the pool reuses the existing processes, which reduces the overhead of process creation and termination.\n",
        "\n",
        "It allows efficient management of multiple processes by distributing tasks across the pool, handling task allocation, and balancing the load automatically. This is particularly useful for parallelizing tasks across multiple CPU cores, improving performance for CPU-bound operations without manually managing individual processes.\n",
        "\n",
        "In Python, libraries like multiprocessing.Pool provide easy-to-use methods to parallelize tasks with process pools.\n"
      ],
      "metadata": {
        "id": "PtHRxw77qCSP"
      }
    },
    {
      "cell_type": "markdown",
      "source": [
        "# 3. Explain what multiprocessing is and why it is used in Python programs.\n",
        "Multiprocessing is a technique in Python that allows programs to execute multiple processes concurrently, taking advantage of multiple CPU cores. Each process runs independently, with its own memory space, bypassing Python's Global Interpreter Lock (GIL) that limits multi-threading performance in CPU-bound tasks.\n",
        "\n",
        "It is used to:\n",
        "\n",
        "Improve performance in CPU-bound operations (e.g., data processing, simulations).\n",
        "Achieve true parallelism by distributing tasks across multiple processors.\n",
        "Isolate processes for better fault tolerance and memory management.\n"
      ],
      "metadata": {
        "id": "F9YkKNyqqLWk"
      }
    },
    {
      "cell_type": "markdown",
      "source": [
        "# 4. . Write a Python program using multithreading where one thread adds numbers to a list, and another thread removes numbers from the list. Implement a mechanism to avoid race conditions using threading.Lock.\n",
        "\n",
        "\n",
        "\n",
        "Here's a Python program using multithreading where one thread adds numbers to a list, and another thread removes numbers from it. We use threading.Lock to avoid race conditions, ensuring that only one thread can modify the list at a time.\n",
        "\n"
      ],
      "metadata": {
        "id": "dCkA4WnEqP23"
      }
    },
    {
      "cell_type": "code",
      "source": [
        "import threading\n",
        "import time\n",
        "\n",
        "# Shared list\n",
        "numbers = []\n",
        "# Lock to prevent race conditions\n",
        "lock = threading.Lock()\n",
        "\n",
        "# Function to add numbers to the list\n",
        "def add_numbers():\n",
        "    for i in range(5):\n",
        "        time.sleep(1)  # Simulate some delay\n",
        "        with lock:\n",
        "            numbers.append(i)\n",
        "            print(f\"Added {i}, List: {numbers}\")\n",
        "\n",
        "# Function to remove numbers from the list\n",
        "def remove_numbers():\n",
        "    for i in range(5):\n",
        "        time.sleep(1.5)  # Simulate some delay\n",
        "        with lock:\n",
        "            if numbers:\n",
        "                removed = numbers.pop(0)\n",
        "                print(f\"Removed {removed}, List: {numbers}\")\n",
        "\n",
        "# Create threads\n",
        "t1 = threading.Thread(target=add_numbers)\n",
        "t2 = threading.Thread(target=remove_numbers)\n",
        "\n",
        "# Start threads\n",
        "t1.start()\n",
        "t2.start()\n",
        "\n",
        "# Wait for threads to finish\n",
        "t1.join()\n",
        "t2.join()\n",
        "\n",
        "\n"
      ],
      "metadata": {
        "colab": {
          "base_uri": "https://localhost:8080/"
        },
        "id": "6pDdRDxtqUN-",
        "outputId": "de210a80-bf40-44d8-bd48-a1ead30a340e"
      },
      "execution_count": 1,
      "outputs": [
        {
          "output_type": "stream",
          "name": "stdout",
          "text": [
            "Added 0, List: [0]\n",
            "Removed 0, List: []\n",
            "Added 1, List: [1]\n",
            "Added 2, List: [1, 2]\n",
            "Removed 1, List: [2]\n",
            "Added 3, List: [2, 3]\n",
            "Removed 2, List: [3]\n",
            "Added 4, List: [3, 4]\n",
            "Removed 3, List: [4]\n",
            "Removed 4, List: []\n"
          ]
        }
      ]
    },
    {
      "cell_type": "markdown",
      "source": [
        "# 5. Describe the methods and tools available in Python for safely sharing data between threads and processes.\n",
        "\n",
        "\n",
        "## For Threads:\n",
        "Python provides the following tools to safely share data between threads:\n",
        "\n",
        "threading.Lock: A mutual exclusion lock (mutex) that ensures only one thread can access shared data at a time, preventing race conditions.\n",
        "\n",
        "Example: with lock:\n",
        "threading.RLock: A re-entrant lock that allows the same thread to acquire the lock multiple times, useful in recursive functions.\n",
        "\n",
        "Example: with rlock:\n",
        "threading.Event: Used for signaling between threads, allowing one thread to notify others when an event occurs.\n",
        "\n",
        "Example: event.set() or event.wait()\n",
        "threading.Semaphore: Controls access to a shared resource by allowing only a fixed number of threads to access it concurrently.\n",
        "\n",
        "Example: semaphore.acquire()\n",
        "queue.Queue: A thread-safe queue that allows multiple threads to safely add or remove data.\n",
        "\n",
        "Example: queue.put(), queue.get()\n",
        "\n",
        "## For Processes:\n",
        "\n",
        "multiprocessing.Queue: A process-safe queue that allows inter-process communication (IPC) by sharing data between processes without race conditions.\n",
        "\n",
        "multiprocessing.Value and Array: Used for sharing simple data (like integers or floats) and arrays between processes. They use synchronization primitives to ensure safe access.\n",
        "\n",
        "multiprocessing.Manager: Provides a way to create shared data structures (like lists, dictionaries) that can be safely accessed and modified by multiple processes.\n",
        "\n",
        "multiprocessing.Lock: A lock that prevents multiple processes from accessing shared resources at the same time, similar to threading.Lock but for processes.\n",
        "\n",
        "These tools and methods ensure thread/process synchronization, safe data access, and avoid race conditions when sharing data.\n",
        "\n"
      ],
      "metadata": {
        "id": "vTfsI0QPqZai"
      }
    },
    {
      "cell_type": "markdown",
      "source": [
        "# 6. Discuss why it’s crucial to handle exceptions in concurrent programs and the techniques available for doing so.\n",
        "\n",
        "Handling exceptions in concurrent programs is crucial because unhandled exceptions can cause threads or processes to fail silently, leading to inconsistent results, resource leaks, or deadlocks. In concurrent environments, issues are harder to detect, and failing to handle exceptions can leave the program in an unstable state.\n",
        "\n",
        "Techniques for Handling Exceptions in Threads:\n",
        "Try-Except Blocks: Wrap the code inside each thread with a try-except block to catch and handle exceptions.\n",
        "\n",
        "\n",
        "try:\n",
        "    # Thread task\n",
        "except Exception as e:\n",
        "    print(f\"Error in thread: {e}\")\n",
        "Custom Thread Classes: Extend the Thread class and implement exception handling within the run() method.\n",
        "\n",
        "Threading with concurrent.futures.ThreadPoolExecutor:\n",
        "\n",
        "This provides better exception handling, as exceptions raised in threads are propagated back to the main thread when using future.result().\n",
        "Techniques for Handling Exceptions in Processes:\n",
        "Try-Except Blocks: Similar to threads, use try-except in each process to catch exceptions.\n",
        "\n",
        "Multiprocessing with concurrent.futures.ProcessPoolExecutor:\n",
        "\n",
        "Exceptions raised in processes are returned to the main process, and can be accessed using future.result(), ensuring visibility.\n",
        "Error Logging: Log exceptions to keep track of issues in each thread or process.\n",
        "\n",
        "Why It’s Crucial:\n",
        "Prevent Failures: Avoid program crashes by catching errors.\n",
        "Stability: Ensures the program continues running even when individual threads or processes fail.\n",
        "Debugging: Easier to identify and resolve errors when exceptions are properly handled.\n",
        "\n",
        "\n",
        "\n",
        "\n",
        "\n",
        "\n",
        "\n",
        "\n"
      ],
      "metadata": {
        "id": "vsmTC-E_qgp0"
      }
    },
    {
      "cell_type": "markdown",
      "source": [
        "# 7. Create a program that uses a thread pool to calculate the factorial of numbers from 1 to 10 concurrently Use concurrent.futures.ThreadPoolExecutor to manage the threads..\n",
        "\n"
      ],
      "metadata": {
        "id": "mjOCe8LYqq3M"
      }
    },
    {
      "cell_type": "code",
      "source": [
        "import concurrent.futures\n",
        "import math\n",
        "\n",
        "# Function to calculate the factorial\n",
        "def calculate_factorial(n):\n",
        "    return math.factorial(n)\n",
        "\n",
        "# List of numbers from 1 to 10\n",
        "numbers = range(1, 11)\n",
        "\n",
        "# Using ThreadPoolExecutor to manage threads\n",
        "with concurrent.futures.ThreadPoolExecutor() as executor:\n",
        "    # Map the factorial function to each number in the list\n",
        "    results = list(executor.map(calculate_factorial, numbers))\n",
        "\n",
        "# Display the results\n",
        "for num, result in zip(numbers, results):\n",
        "    print(f\"Factorial of {num} is {result}\")\n"
      ],
      "metadata": {
        "colab": {
          "base_uri": "https://localhost:8080/"
        },
        "id": "7S08lCbQquTO",
        "outputId": "b7a32dd4-b3fb-4a39-9066-04d02df5c132"
      },
      "execution_count": 2,
      "outputs": [
        {
          "output_type": "stream",
          "name": "stdout",
          "text": [
            "Factorial of 1 is 1\n",
            "Factorial of 2 is 2\n",
            "Factorial of 3 is 6\n",
            "Factorial of 4 is 24\n",
            "Factorial of 5 is 120\n",
            "Factorial of 6 is 720\n",
            "Factorial of 7 is 5040\n",
            "Factorial of 8 is 40320\n",
            "Factorial of 9 is 362880\n",
            "Factorial of 10 is 3628800\n"
          ]
        }
      ]
    },
    {
      "cell_type": "markdown",
      "source": [
        "# 8.Create a Python program that uses multiprocessing.Pool to compute the square of numbers from 1 to 10 in parallel. Measure the time taken to perform this computation using a pool of different sizes (e.g., 2, 4, 8 processes).\n",
        "\n"
      ],
      "metadata": {
        "id": "tkVhwXHVq2Cr"
      }
    },
    {
      "cell_type": "code",
      "source": [
        "import multiprocessing\n",
        "import time\n",
        "\n",
        "# Function to compute the square of a number\n",
        "def compute_square(n):\n",
        "    return n * n\n",
        "\n",
        "# List of numbers from 1 to 10\n",
        "numbers = range(1, 11)\n",
        "\n",
        "# Function to measure the time for different pool sizes\n",
        "def measure_time(pool_size):\n",
        "    start_time = time.time()\n",
        "\n",
        "    # Create a Pool with the given pool_size\n",
        "    with multiprocessing.Pool(pool_size) as pool:\n",
        "        # Apply the compute_square function to each number\n",
        "        results = pool.map(compute_square, numbers)\n",
        "\n",
        "    end_time = time.time()\n",
        "    elapsed_time = end_time - start_time\n",
        "    return results, elapsed_time\n",
        "\n",
        "# Test with different pool sizes\n",
        "pool_sizes = [2, 4, 8]\n",
        "for size in pool_sizes:\n",
        "    results, elapsed_time = measure_time(size)\n",
        "    print(f\"Pool size: {size}, Results: {results}, Time taken: {elapsed_time:.4f} seconds\")\n"
      ],
      "metadata": {
        "colab": {
          "base_uri": "https://localhost:8080/"
        },
        "id": "ENrwimqKqwqm",
        "outputId": "c1028d4e-1b42-4887-d6fc-7c21c789abee"
      },
      "execution_count": 3,
      "outputs": [
        {
          "output_type": "stream",
          "name": "stdout",
          "text": [
            "Pool size: 2, Results: [1, 4, 9, 16, 25, 36, 49, 64, 81, 100], Time taken: 0.0362 seconds\n",
            "Pool size: 4, Results: [1, 4, 9, 16, 25, 36, 49, 64, 81, 100], Time taken: 0.0445 seconds\n",
            "Pool size: 8, Results: [1, 4, 9, 16, 25, 36, 49, 64, 81, 100], Time taken: 0.0881 seconds\n"
          ]
        }
      ]
    },
    {
      "cell_type": "code",
      "source": [],
      "metadata": {
        "id": "_5Zi7iKcq5rC"
      },
      "execution_count": null,
      "outputs": []
    }
  ]
}