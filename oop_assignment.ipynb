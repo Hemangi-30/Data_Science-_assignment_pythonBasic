{
  "nbformat": 4,
  "nbformat_minor": 0,
  "metadata": {
    "colab": {
      "provenance": []
    },
    "kernelspec": {
      "name": "python3",
      "display_name": "Python 3"
    },
    "language_info": {
      "name": "python"
    }
  },
  "cells": [
    {
      "cell_type": "markdown",
      "source": [
        "# 1. What are the five key concepts of Object-Oriented Programming (OOP)?\n",
        "ans ->\n",
        "1. Encapsulation – Binding data and methods that operate on that data within a class.\n",
        "\n",
        "2. Abstraction – Hiding complex implementation details and showing only the essential features.\n",
        "\n",
        "3. Inheritance – One class can inherit attributes and methods from another class.\n",
        "\n",
        "4. Polymorphism – A common interface for multiple forms (e.g., method overriding).\n",
        "\n",
        "5. Class & Object – Class is a blueprint; Object is an instance of the class.\n",
        "\n",
        "\n",
        "\n",
        "# 2. Write a Python class for a Car with attributes for make, model, and year. Include a method to display the car's information.\n",
        "\n",
        "and ->\n",
        "\n",
        "\n",
        "class Car:\n",
        "\n",
        "    def __init__(self, make, model, year):\n",
        "        self.make = make\n",
        "        self.model = model\n",
        "        self.year = year\n",
        "\n",
        "    def display_info(self):\n",
        "        print(f\"{self.year} {self.make} {self.model}\")\n",
        "\n",
        "\n",
        "\n",
        "# 3. Explain the difference between instance methods and class methods. Provide an example of each.\n",
        "\n",
        "\n",
        "ans ->\n",
        "\n",
        "Instance Method: Works with instance (self), accesses instance variables.\n",
        "\n",
        "Class Method: Uses @classmethod decorator, accesses class state via cls.\n",
        "\n",
        "\n",
        "\n",
        "```\n",
        "class MyClass:\n",
        "    count = 0\n",
        "\n",
        "    def instance_method(self):\n",
        "        print(\"I am an instance method\")\n",
        "\n",
        "    @classmethod\n",
        "    def class_method(cls):\n",
        "        print(\"I am a class method\")\n",
        "```\n",
        "\n",
        "\n",
        "\n",
        "\n",
        "\n",
        "\n",
        "\n",
        "\n",
        "\n",
        "\n",
        "\n",
        "\n",
        "\n",
        "\n",
        "\n",
        "\n",
        "\n",
        "\n",
        "\n",
        "\n",
        "\n",
        "\n",
        "\n",
        "\n",
        "\n",
        "\n",
        "\n",
        "\n",
        "\n",
        "\n"
      ],
      "metadata": {
        "id": "kuZVAlbEfEkr"
      }
    },
    {
      "cell_type": "markdown",
      "source": [
        "# 4. How does Python implement method overloading? Give an example.\n",
        "\n",
        "ans->\n",
        "Python doesn't support method overloading directly. It can be mimicked using default arguments.\n",
        "\n"
      ],
      "metadata": {
        "id": "psoEas4Si2AN"
      }
    },
    {
      "cell_type": "code",
      "source": [
        "class Example:\n",
        "    def greet(self, name=None):\n",
        "        if name:\n",
        "            print(f\"Hello, {name}\")\n",
        "        else:\n",
        "            print(\"Hello\")\n"
      ],
      "metadata": {
        "id": "XlN3-JL8i9kV"
      },
      "execution_count": null,
      "outputs": []
    },
    {
      "cell_type": "markdown",
      "source": [
        "# 5. What are the three types of access modifiers in Python? How are they denoted?\n",
        "\n",
        "ans->\n",
        "\n",
        "Public: No underscore (name)\n",
        "\n",
        "Protected: One underscore (_name)\n",
        "\n",
        "Private: Two underscores (__name)"
      ],
      "metadata": {
        "id": "rTT13SBKitN1"
      }
    },
    {
      "cell_type": "markdown",
      "source": [
        "# 6. Describe the five types of inheritance in Python. Provide a simple example of multiple inheritance.\n",
        "\n",
        "ans ->\n",
        "\n",
        "1.Single\n",
        "\n",
        "2.Multiple\n",
        "\n",
        "3.Multilevel\n",
        "\n",
        "4.Hierarchical\n",
        "\n",
        "5.Hybrid\n",
        "\n",
        "Example of Multiple Inheritance:\n",
        "\n",
        "\n",
        "\n",
        "```\n",
        "class A:\n",
        "    def method(self):\n",
        "        print(\"Method in A\")\n",
        "\n",
        "class B:\n",
        "    def method(self):\n",
        "        print(\"Method in B\")\n",
        "\n",
        "class C(A, B):\n",
        "    pass\n",
        "\n",
        "c = C()\n",
        "c.method()  # Uses A's method due to MRO\n",
        "```\n",
        "\n",
        "\n",
        "\n"
      ],
      "metadata": {
        "id": "QmeMNix4iatq"
      }
    },
    {
      "cell_type": "markdown",
      "source": [
        "#7. What is the Method Resolution Order (MRO) in Python? How can you retrieve it programmatically?\n",
        "\n",
        "Defines the order in which base classes are searched.\n",
        "\n",
        "\n",
        "```\n",
        "\n",
        "print(C.__mro__)  # Or use help(C)\n",
        "```\n",
        "\n"
      ],
      "metadata": {
        "id": "fqR-9Z-qiObZ"
      }
    },
    {
      "cell_type": "markdown",
      "source": [
        "#8. Create an abstract base class Shape with an abstract method area(). Then create two subclasses Circle and Rectangle that implement the area() method.\n"
      ],
      "metadata": {
        "id": "SueNBaOBiH34"
      }
    },
    {
      "cell_type": "code",
      "source": [
        "from abc import ABC, abstractmethod\n",
        "\n",
        "class Shape(ABC):\n",
        "    @abstractmethod\n",
        "    def area(self):\n",
        "        pass\n",
        "\n",
        "class Circle(Shape):\n",
        "    def __init__(self, radius):\n",
        "        self.radius = radius\n",
        "\n",
        "    def area(self):\n",
        "        return 3.14 * self.radius ** 2\n",
        "\n",
        "class Rectangle(Shape):\n",
        "    def __init__(self, width, height):\n",
        "        self.width = width\n",
        "        self.height = height\n",
        "\n",
        "    def area(self):\n",
        "        return self.width * self.height\n"
      ],
      "metadata": {
        "id": "nZaKi2tXiG1x"
      },
      "execution_count": null,
      "outputs": []
    },
    {
      "cell_type": "markdown",
      "source": [
        "# 9. Demonstrate polymorphism by creating a function that can work with different shape objects to calculate and print their areas.\n",
        "\n",
        "ans ->\n"
      ],
      "metadata": {
        "id": "RHMUlUJIhnlE"
      }
    },
    {
      "cell_type": "code",
      "source": [
        "from abc import ABC, abstractmethod\n",
        "\n",
        "class Shape(ABC):\n",
        "    @abstractmethod\n",
        "    def area(self):\n",
        "        pass\n",
        "class Circle(Shape):\n",
        "    def __init__(self, radius):\n",
        "        self.radius = radius\n",
        "\n",
        "    def area(self):\n",
        "        return 3.14 * self.radius ** 2\n",
        "\n",
        "class Rectangle(Shape):\n",
        "    def __init__(self, width, height):\n",
        "        self.width = width\n",
        "        self.height = height\n",
        "\n",
        "    def area(self):\n",
        "        return self.width * self.height\n",
        "def print_area(shape):\n",
        "    print(\"Area:\", shape.area())\n",
        "\n",
        "circle = Circle(5)\n",
        "rectangle = Rectangle(4, 6)\n",
        "\n",
        "print_area(circle)\n",
        "print_area(rectangle)\n"
      ],
      "metadata": {
        "colab": {
          "base_uri": "https://localhost:8080/"
        },
        "id": "ax1P1HhDhv3O",
        "outputId": "92390fa6-15d5-43bf-a4be-d03aee1aca0b"
      },
      "execution_count": 5,
      "outputs": [
        {
          "output_type": "stream",
          "name": "stdout",
          "text": [
            "Area: 78.5\n",
            "Area: 24\n"
          ]
        }
      ]
    },
    {
      "cell_type": "markdown",
      "source": [
        "#10. Implement encapsulation in a BankAccount class with private attributes for balance and account_number. Include methods for deposit, withdrawal, and balance inquiry.\n",
        "\n",
        "ans ->\n"
      ],
      "metadata": {
        "id": "Ml4134REhfyU"
      }
    },
    {
      "cell_type": "code",
      "source": [
        "class BankAccount:\n",
        "    def __init__(self, account_number, balance=0):\n",
        "        self.__account_number = account_number\n",
        "        self.__balance = balance\n",
        "\n",
        "    def deposit(self, amount):\n",
        "        self.__balance += amount\n",
        "\n",
        "    def withdraw(self, amount):\n",
        "        if amount <= self.__balance:\n",
        "            self.__balance -= amount\n",
        "        else:\n",
        "            print(\"Insufficient funds\")\n",
        "\n",
        "    def get_balance(self):\n",
        "        return self.__balance\n"
      ],
      "metadata": {
        "id": "-AB1i8aJhk58"
      },
      "execution_count": null,
      "outputs": []
    },
    {
      "cell_type": "markdown",
      "source": [
        "#11. Write a class that overrides the __str__ and __add__ magic methods. What will these methods allow you to do?\n",
        "\n",
        "ans ->\n",
        "\n",
        "\n",
        "```\n",
        "class Point:\n",
        "    def __init__(self, x, y):\n",
        "        self.x = x\n",
        "        self.y = y\n",
        "\n",
        "    def __str__(self):\n",
        "        return f\"({self.x}, {self.y})\"\n",
        "\n",
        "    def __add__(self, other):\n",
        "        return Point(self.x + other.x, self.y + other.y)\n",
        "\n",
        "p1 = Point(1, 2)\n",
        "p2 = Point(3, 4)\n",
        "print(p1 + p2)  # Calls __add__\n",
        "\n",
        "```\n",
        "__str__ allows human-readable output.\n",
        "__add__ allows + operator overloading.\n"
      ],
      "metadata": {
        "id": "TW8PhjhXhJQy"
      }
    },
    {
      "cell_type": "markdown",
      "source": [
        "# 12. Create a decorator that measures and prints the execution time of a function.\n",
        "\n",
        "ans ->\n",
        "\n",
        "\n",
        "```\n",
        "import time\n",
        "\n",
        "def timing_decorator(func):\n",
        "    def wrapper(*args, **kwargs):\n",
        "        start = time.time()\n",
        "        result = func(*args, **kwargs)\n",
        "        end = time.time()\n",
        "        print(f\"Execution time: {end - start:.4f} seconds\")\n",
        "        return result\n",
        "    return wrapper\n",
        "\n",
        "@timing_decorator\n",
        "def slow_function():\n",
        "    time.sleep(1)\n",
        "    print(\"Function complete\")\n",
        "\n",
        "slow_function()\n",
        "\n",
        "```\n",
        "\n"
      ],
      "metadata": {
        "id": "l1107m1Dg7vg"
      }
    },
    {
      "cell_type": "markdown",
      "source": [
        "# 13. Explain the concept of the Diamond Problem in multiple inheritance. How does Python resolve it?\n",
        "\n",
        "ans ->\n",
        "\n",
        "Occurs when two classes inherit from the same base and another class inherits both. Python resolves using MRO (C3 linearization).\n",
        "\n",
        "```\n",
        "class A: pass\n",
        "class B(A): pass\n",
        "class C(A): pass\n",
        "class D(B, C): pass\n",
        "\n",
        "print(D.__mro__)\n",
        "```\n",
        "\n",
        "\n",
        "\n",
        "Python traverses left to right, avoiding calling the same class twice.\n",
        "\n"
      ],
      "metadata": {
        "id": "Dqwaov1ugUPr"
      }
    },
    {
      "cell_type": "markdown",
      "source": [
        "# 14. Write a class method that keeps track of the number of instances created from a class.\n",
        "\n",
        "ans ->\n",
        "\n"
      ],
      "metadata": {
        "id": "-SuSthtTgEJi"
      }
    },
    {
      "cell_type": "code",
      "source": [
        "class Tracker:\n",
        "    count = 0\n",
        "\n",
        "    def __init__(self):\n",
        "        Tracker.count += 1\n",
        "\n",
        "    @classmethod\n",
        "    def get_instance_count(cls):\n",
        "        return cls.count\n"
      ],
      "metadata": {
        "id": "Bab9PV5WgOBb"
      },
      "execution_count": 2,
      "outputs": []
    },
    {
      "cell_type": "markdown",
      "source": [
        "# 15. Implement a static method in a class that checks if a given year is a leap year.\n",
        "\n",
        "ans ->\n",
        "\n"
      ],
      "metadata": {
        "id": "Z-V8ETXufwfw"
      }
    },
    {
      "cell_type": "code",
      "source": [
        "class DateUtils:\n",
        "    @staticmethod\n",
        "    def is_leap_year(year):\n",
        "        return year % 4 == 0 and (year % 100 != 0 or year % 400 == 0)\n",
        "\n",
        "print(DateUtils.is_leap_year(2024))  # True\n"
      ],
      "metadata": {
        "colab": {
          "base_uri": "https://localhost:8080/"
        },
        "id": "tI9kln5Rf8X4",
        "outputId": "80406dbf-f678-415f-c8e9-748db2b361e1"
      },
      "execution_count": 1,
      "outputs": [
        {
          "output_type": "stream",
          "name": "stdout",
          "text": [
            "True\n"
          ]
        }
      ]
    }
  ]
}