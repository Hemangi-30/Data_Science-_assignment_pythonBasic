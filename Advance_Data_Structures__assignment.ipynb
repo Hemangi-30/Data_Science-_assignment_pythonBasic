{
  "nbformat": 4,
  "nbformat_minor": 0,
  "metadata": {
    "colab": {
      "provenance": []
    },
    "kernelspec": {
      "name": "python3",
      "display_name": "Python 3"
    },
    "language_info": {
      "name": "python"
    }
  },
  "cells": [
    {
      "cell_type": "markdown",
      "source": [
        "# question 1 : Write a code to reverse a string."
      ],
      "metadata": {
        "id": "2oHdQETFFwHr"
      }
    },
    {
      "cell_type": "code",
      "source": [
        "# using slice\n",
        "str = \"hemangi\"\n",
        "print(str[::-1])"
      ],
      "metadata": {
        "colab": {
          "base_uri": "https://localhost:8080/"
        },
        "id": "QKNDKXJTHFkt",
        "outputId": "44a0ad7d-ad9a-48e8-82f7-986f193198d1"
      },
      "execution_count": null,
      "outputs": [
        {
          "output_type": "stream",
          "name": "stdout",
          "text": [
            "ignameh\n"
          ]
        }
      ]
    },
    {
      "cell_type": "code",
      "source": [
        "#using reverse function with join\n",
        "print(\"\".join(reversed(str)))"
      ],
      "metadata": {
        "colab": {
          "base_uri": "https://localhost:8080/"
        },
        "id": "ax3L3qz3HQi1",
        "outputId": "eb828053-5f27-4d04-801f-fe3bd207a81f"
      },
      "execution_count": null,
      "outputs": [
        {
          "output_type": "stream",
          "name": "stdout",
          "text": [
            "ignameh\n"
          ]
        }
      ]
    },
    {
      "cell_type": "markdown",
      "source": [
        "#question 2 : Write a code to count the number of vowels in a string."
      ],
      "metadata": {
        "id": "CEckiPsMIi_U"
      }
    },
    {
      "cell_type": "code",
      "source": [
        "# str = \"hemangi\"\n",
        "# vowels = \"aeiouAEIOU\"\n",
        "# count = sum(str.count(vowel) for vowel in vowels)\n",
        "# print(count)\n",
        "\n",
        "str = input(\"enter the string : \")\n",
        "vowels = 0\n",
        "for i in str:\n",
        "    if(i=='a' or i=='e' or i=='i' or i=='o' or i=='u' or i=='A' or i=='E' or i=='I' or i=='O' or i=='U'):\n",
        "        vowels = vowels +  1\n",
        "print(\"number of vowels are : \", vowels)\n"
      ],
      "metadata": {
        "colab": {
          "base_uri": "https://localhost:8080/"
        },
        "id": "zooINo4MIySv",
        "outputId": "4e9df6af-48e9-4409-e14c-ba8dc576a558"
      },
      "execution_count": null,
      "outputs": [
        {
          "output_type": "stream",
          "name": "stdout",
          "text": [
            "enter the string : hemaangii\n",
            "number of vowels are :  5\n"
          ]
        }
      ]
    },
    {
      "cell_type": "markdown",
      "source": [
        "# question 3 : Write a code to check if a given string is a palindrome or not"
      ],
      "metadata": {
        "id": "INfNq2uSKW6u"
      }
    },
    {
      "cell_type": "code",
      "source": [
        "str = input(\"enter the string : \")\n",
        "if str == str[::-1]:\n",
        "    print(\"palindrome\")\n",
        "else:\n",
        "    print(\"not palindrome\")"
      ],
      "metadata": {
        "colab": {
          "base_uri": "https://localhost:8080/"
        },
        "id": "-bG7wmzUKl9-",
        "outputId": "ab0a0680-4242-4479-d67c-9155f46f1be5"
      },
      "execution_count": null,
      "outputs": [
        {
          "output_type": "stream",
          "name": "stdout",
          "text": [
            "enter the string : hemangi\n",
            "not palindrome\n"
          ]
        }
      ]
    },
    {
      "cell_type": "markdown",
      "source": [
        "#question 4 : Write a code to check if two given strings are anagrams of each others."
      ],
      "metadata": {
        "id": "NuSFttwaKz6r"
      }
    },
    {
      "cell_type": "code",
      "source": [
        "str1 = input(\"enter the string : \")\n",
        "str2 = input(\"enter the string : \")\n",
        "if sorted(str1) == sorted(str2):\n",
        "    print(\"anagram\")\n",
        "else:\n",
        "    print(\"not anagram\")\n",
        "\n",
        "print(sorted(str1))\n",
        "print(sorted(str2))"
      ],
      "metadata": {
        "colab": {
          "base_uri": "https://localhost:8080/"
        },
        "id": "MjRV_lGaLLPV",
        "outputId": "7653cf58-3e36-4157-c499-93c82c76586d"
      },
      "execution_count": null,
      "outputs": [
        {
          "output_type": "stream",
          "name": "stdout",
          "text": [
            "enter the string : listen\n",
            "enter the string : silent\n",
            "anagram\n",
            "['e', 'i', 'l', 'n', 's', 't']\n",
            "['e', 'i', 'l', 'n', 's', 't']\n"
          ]
        }
      ]
    },
    {
      "cell_type": "markdown",
      "source": [
        "# question 5 :  Write a code to find all occurrences of a given substring within another string."
      ],
      "metadata": {
        "id": "f9a7rPhVOXmF"
      }
    },
    {
      "cell_type": "code",
      "source": [
        "str = input(\"enter the string : \")\n",
        "sub_str = input(\"enter the substring :\")\n",
        "res = [i for i in range(len(str)) if str.startswith(sub_str, i)]\n",
        "print(res)"
      ],
      "metadata": {
        "colab": {
          "base_uri": "https://localhost:8080/"
        },
        "id": "tHIUWEMUQwmL",
        "outputId": "3d507867-1a23-4749-da51-84fe0764a9d3"
      },
      "execution_count": null,
      "outputs": [
        {
          "output_type": "stream",
          "name": "stdout",
          "text": [
            "enter the string : hey marry , marry play with another marry , take care marry \n",
            "enter the substring :marry\n",
            "[4, 12, 36, 54]\n"
          ]
        }
      ]
    },
    {
      "cell_type": "markdown",
      "source": [
        "# question 6 : Write a code to perform basic string compression using the counts of repeated characters."
      ],
      "metadata": {
        "id": "J1OjtY_wTAhL"
      }
    },
    {
      "cell_type": "code",
      "source": [
        "from itertools import groupby\n",
        "def encode_str(input_str):\n",
        "    return [(len(list(n)), m) for m,n in groupby(input_str)]\n",
        "\n",
        "str1 =input(\"enter the string : \")\n",
        "print(\"Original string:\" , str1 )\n",
        "print(\"result : \", encode_str(str1))\n"
      ],
      "metadata": {
        "colab": {
          "base_uri": "https://localhost:8080/"
        },
        "id": "VDOuNyibbbFg",
        "outputId": "d8006678-a018-4423-d5dc-9cf6d0c3b142"
      },
      "execution_count": null,
      "outputs": [
        {
          "output_type": "stream",
          "name": "stdout",
          "text": [
            "enter the string : aaabbbccdd\n",
            "Original string: aaabbbccdd\n",
            "result :  [(3, 'a'), (3, 'b'), (2, 'c'), (2, 'd')]\n"
          ]
        }
      ]
    },
    {
      "cell_type": "markdown",
      "source": [
        "# question 7 : Write a code to determine if a string has all unique character."
      ],
      "metadata": {
        "id": "pHlCuV3kcXRe"
      }
    },
    {
      "cell_type": "code",
      "source": [
        "str = input(\"enter the string : \")\n",
        "if len(str) == len(set(str)):\n",
        "    print(\"unique\")\n",
        "else:\n",
        "    print(\"not unique\")"
      ],
      "metadata": {
        "colab": {
          "base_uri": "https://localhost:8080/"
        },
        "id": "uyam5mO_cr1C",
        "outputId": "e00c8a3e-ac93-4dc3-8beb-293a170583dd"
      },
      "execution_count": null,
      "outputs": [
        {
          "output_type": "stream",
          "name": "stdout",
          "text": [
            "enter the string : hemangi\n",
            "unique\n"
          ]
        }
      ]
    },
    {
      "cell_type": "markdown",
      "source": [
        "# question 8 : Write a code to convert a given string to uppercase or lowercase."
      ],
      "metadata": {
        "id": "Q4Da5sq5dTDh"
      }
    },
    {
      "cell_type": "code",
      "source": [
        "str = input(\"enter the string : \")\n",
        "print(str.upper())\n",
        "print(str.lower())"
      ],
      "metadata": {
        "colab": {
          "base_uri": "https://localhost:8080/"
        },
        "id": "lAo6Oi70dpq-",
        "outputId": "0a0c117d-4e26-4f78-afdb-7794d815d957"
      },
      "execution_count": null,
      "outputs": [
        {
          "output_type": "stream",
          "name": "stdout",
          "text": [
            "enter the string : heMANGI\n",
            "HEMANGI\n",
            "hemangi\n"
          ]
        }
      ]
    },
    {
      "cell_type": "markdown",
      "source": [
        "# question 9 :  Write a Code to Count the number of words in a string."
      ],
      "metadata": {
        "id": "GQrPyUJReGfh"
      }
    },
    {
      "cell_type": "code",
      "source": [
        "str = input(\"enter the string : \")\n",
        "print(len(str.split()))\n",
        "print(str.split())"
      ],
      "metadata": {
        "colab": {
          "base_uri": "https://localhost:8080/"
        },
        "id": "EeJaL8_QeY6_",
        "outputId": "543ebace-5041-4f9a-f0f1-565ba00ccf43"
      },
      "execution_count": null,
      "outputs": [
        {
          "output_type": "stream",
          "name": "stdout",
          "text": [
            "enter the string : hello india ! how are you aa !!\n",
            "8\n",
            "['hello', 'india', '!', 'how', 'are', 'you', 'aa', '!!']\n"
          ]
        }
      ]
    },
    {
      "cell_type": "markdown",
      "source": [
        "#question 10. Write a code to concatenate two strings without using the + operator."
      ],
      "metadata": {
        "id": "51rYfUsFfNbM"
      }
    },
    {
      "cell_type": "code",
      "source": [
        "str1 = input(\"enter the string : \")\n",
        "str2 = input(\"enter the string : \")\n",
        "print(\" \".join([str1,str2]))"
      ],
      "metadata": {
        "colab": {
          "base_uri": "https://localhost:8080/"
        },
        "id": "JJc25tRYfltU",
        "outputId": "3b9e6567-ca02-40be-eb3c-cce85ce01acd"
      },
      "execution_count": null,
      "outputs": [
        {
          "output_type": "stream",
          "name": "stdout",
          "text": [
            "enter the string : hello\n",
            "enter the string : world\n",
            "hello world\n"
          ]
        }
      ]
    },
    {
      "cell_type": "markdown",
      "source": [
        "#question 11. Write a code to remove all occurrences of a specific element from a list.\n"
      ],
      "metadata": {
        "id": "tt775u6vgk8q"
      }
    },
    {
      "cell_type": "code",
      "source": [
        "def removeele(my_list, element):\n",
        "  # Use list comprehension to create a new list without the specified element\n",
        "  return [item for item in my_list if item != element]\n",
        "\n",
        "\n",
        "list = [1, 2, 3, 4, 2, 5, 2,5,5,5]\n",
        "remove_ele = 5\n",
        "new_list = removeele(list,remove_ele)\n",
        "print(new_list)\n"
      ],
      "metadata": {
        "colab": {
          "base_uri": "https://localhost:8080/"
        },
        "id": "MCPjaN84hBgo",
        "outputId": "69aa34bb-2a62-4ac7-d203-8fff0bffd031"
      },
      "execution_count": null,
      "outputs": [
        {
          "output_type": "stream",
          "name": "stdout",
          "text": [
            "[1, 2, 3, 4, 2, 2]\n"
          ]
        }
      ]
    },
    {
      "cell_type": "markdown",
      "source": [
        "#question 12. Implement a code to find the second largest number in a given list of integers."
      ],
      "metadata": {
        "id": "wGUjM85JiPGQ"
      }
    },
    {
      "cell_type": "code",
      "source": [
        "list = [5,35,3,45,23,1]\n",
        "list.sort()\n",
        "print(list)\n",
        "print(\"second largest element : \",list[-2])"
      ],
      "metadata": {
        "colab": {
          "base_uri": "https://localhost:8080/"
        },
        "id": "uYUI7q4Nigpv",
        "outputId": "7d4968c6-5d87-430a-bd3d-f218f28c74ff"
      },
      "execution_count": null,
      "outputs": [
        {
          "output_type": "stream",
          "name": "stdout",
          "text": [
            "[1, 3, 5, 23, 35, 45]\n",
            "second largest element :  35\n"
          ]
        }
      ]
    },
    {
      "cell_type": "markdown",
      "source": [
        "#question 13. Create a code to count the occurrences of each element in a list and return a dictionary with elements as key and their counts as values."
      ],
      "metadata": {
        "id": "4dxXzamLjKG4"
      }
    },
    {
      "cell_type": "code",
      "source": [
        "list = [1, 2, 3, 4, 2, 5, 2,5,5,5]\n",
        "dict = {}\n",
        "for i in list:\n",
        "    if i in dict:\n",
        "        dict[i] += 1\n",
        "    else:\n",
        "        dict[i] = 1\n",
        "print(dict)"
      ],
      "metadata": {
        "colab": {
          "base_uri": "https://localhost:8080/"
        },
        "id": "QhVN4GiGj163",
        "outputId": "9dc0139a-c684-4f53-c3f2-752c2bb4e346"
      },
      "execution_count": null,
      "outputs": [
        {
          "output_type": "stream",
          "name": "stdout",
          "text": [
            "{1: 1, 2: 3, 3: 1, 4: 1, 5: 4}\n"
          ]
        }
      ]
    },
    {
      "cell_type": "markdown",
      "source": [
        "# question 14.Write a code to reverse a list in-place without using an built-in reverse functions."
      ],
      "metadata": {
        "id": "9g65KE62kYPV"
      }
    },
    {
      "cell_type": "code",
      "source": [
        "list = [1, 2, 3, 4, 2, 5, 2,5,5,5]\n",
        "print(list[::-1])"
      ],
      "metadata": {
        "colab": {
          "base_uri": "https://localhost:8080/"
        },
        "id": "o5d89OXxkshl",
        "outputId": "c9db065c-56f7-48ff-b4e6-00740a57e363"
      },
      "execution_count": null,
      "outputs": [
        {
          "output_type": "stream",
          "name": "stdout",
          "text": [
            "[5, 5, 5, 2, 5, 2, 4, 3, 2, 1]\n"
          ]
        }
      ]
    },
    {
      "cell_type": "markdown",
      "source": [
        "#question 15 . Implement a code to find and remove duplicates from a list while preserving the original order of elements."
      ],
      "metadata": {
        "id": "YeyEPIqWk2ga"
      }
    },
    {
      "cell_type": "code",
      "source": [
        "list = [1, 5, 3, 4, 2, 5, 2,5,5,5]\n",
        "new_list = []\n",
        "for i in list:\n",
        "    if i not in new_list:\n",
        "        new_list.append(i)\n",
        "\n",
        "print(new_list)"
      ],
      "metadata": {
        "colab": {
          "base_uri": "https://localhost:8080/"
        },
        "id": "wyCwmnnJlU5y",
        "outputId": "da9c7a73-3496-42d6-86f0-db0b18df1a84"
      },
      "execution_count": null,
      "outputs": [
        {
          "output_type": "stream",
          "name": "stdout",
          "text": [
            "[1, 5, 3, 4, 2]\n"
          ]
        }
      ]
    },
    {
      "cell_type": "markdown",
      "source": [
        "# question 16 . Create a code to check if a given list is sorted (either in ascending or descsending order) or not."
      ],
      "metadata": {
        "id": "76hqA4M0lwi6"
      }
    },
    {
      "cell_type": "code",
      "source": [
        "list = [1, 5, 3, 4, 2, 5, 2,5,5,5]\n",
        "if list == sorted(list):\n",
        "    print(\"sorted\")\n",
        "else:\n",
        "    print(\"not sorted\")"
      ],
      "metadata": {
        "colab": {
          "base_uri": "https://localhost:8080/"
        },
        "id": "FlKKUvqemYXV",
        "outputId": "347cf3bf-7739-413f-9055-6aa7be81c1e9"
      },
      "execution_count": null,
      "outputs": [
        {
          "output_type": "stream",
          "name": "stdout",
          "text": [
            "not sorted\n"
          ]
        }
      ]
    },
    {
      "cell_type": "markdown",
      "source": [
        "#question 17 .  Write a code to merge two sorted lists into a single sorted list."
      ],
      "metadata": {
        "id": "cYv9BqKumjVh"
      }
    },
    {
      "cell_type": "code",
      "source": [
        "list1 = [10,15,12,45]\n",
        "list2 = [56,13,34,90,67]\n",
        "list3 = list1 + list2\n",
        "list3.sort()\n",
        "print(list3)"
      ],
      "metadata": {
        "colab": {
          "base_uri": "https://localhost:8080/"
        },
        "id": "QAGJ7dkkmyMB",
        "outputId": "64c943e1-956b-4a6a-f7dc-5b55671145d5"
      },
      "execution_count": null,
      "outputs": [
        {
          "output_type": "stream",
          "name": "stdout",
          "text": [
            "[10, 12, 13, 15, 34, 45, 56, 67, 90]\n"
          ]
        }
      ]
    },
    {
      "cell_type": "markdown",
      "source": [
        "#question 18 .  Implement a code to find the intersection of two given lists."
      ],
      "metadata": {
        "id": "wruHry6mnFvF"
      }
    },
    {
      "cell_type": "code",
      "source": [
        "def find_intersection(list1, list2):\n",
        "  # Create an empty list to store the intersection elements\n",
        "  intersection_list = []\n",
        "  for item in list1:\n",
        "    if item in list2 and item not in intersection_list:\n",
        "      intersection_list.append(item)\n",
        "  return intersection_list\n",
        "\n",
        "\n",
        "list1 = [1, 2, 3, 4, 5]\n",
        "list2 = [3, 4, 5, 6, 7]\n",
        "intersection = find_intersection(list1, list2)\n",
        "print(intersection)"
      ],
      "metadata": {
        "colab": {
          "base_uri": "https://localhost:8080/"
        },
        "id": "8eTtkAsgnZT1",
        "outputId": "4d7f58e3-2821-4c00-df77-22848c82534f"
      },
      "execution_count": null,
      "outputs": [
        {
          "output_type": "stream",
          "name": "stdout",
          "text": [
            "[3, 4, 5]\n"
          ]
        }
      ]
    },
    {
      "cell_type": "markdown",
      "source": [
        "#question 19 . Create a code to find the union of two lists without duplicates."
      ],
      "metadata": {
        "id": "eWnaehgRn1iN"
      }
    },
    {
      "cell_type": "code",
      "source": [
        "def find_union(list1, list2):\n",
        "  # Create an empty list to store the union elements\n",
        "  union_list = []\n",
        "\n",
        "  for item in list1:\n",
        "    if item not in union_list:\n",
        "      union_list.append(item)\n",
        "\n",
        "  for item in list2:\n",
        "    if item not in union_list:\n",
        "      union_list.append(item)\n",
        "\n",
        "  return union_list\n",
        "\n",
        "\n",
        "list1 = [1, 2, 3, 4, 5]\n",
        "list2 = [3, 4, 5, 6, 7]\n",
        "union = find_union(list1, list2)\n",
        "print(union)\n"
      ],
      "metadata": {
        "colab": {
          "base_uri": "https://localhost:8080/"
        },
        "id": "xVLJqJ31o-2_",
        "outputId": "aa635019-d92a-438d-d13e-c287479e188f"
      },
      "execution_count": null,
      "outputs": [
        {
          "output_type": "stream",
          "name": "stdout",
          "text": [
            "[1, 2, 3, 4, 5, 6, 7]\n"
          ]
        }
      ]
    },
    {
      "cell_type": "markdown",
      "source": [
        "# question 20  . Write a code to shuffle a given list randomly without using an built-in shuffle functions."
      ],
      "metadata": {
        "id": "w74pS7x2t-gs"
      }
    },
    {
      "cell_type": "code",
      "source": [
        "import random\n",
        "\n",
        "def custom_shuffle(lst):\n",
        "  # Iterate through the list\n",
        "  for i in range(len(lst)):\n",
        "    # Generate a random index between i and the end of the list\n",
        "    j = random.randint(i, len(lst) - 1)\n",
        "    # Swap elements at indices i and j\n",
        "    lst[i], lst[j] = lst[j], lst[i]\n",
        "\n",
        "list = [1, 2, 3, 4, 5]\n",
        "custom_shuffle(list)\n",
        "print(list)"
      ],
      "metadata": {
        "id": "JOUi3V6BuoCL",
        "colab": {
          "base_uri": "https://localhost:8080/"
        },
        "outputId": "7994eb3a-5c33-4862-a8af-5c5428326630"
      },
      "execution_count": null,
      "outputs": [
        {
          "output_type": "stream",
          "name": "stdout",
          "text": [
            "[4, 3, 1, 5, 2]\n"
          ]
        }
      ]
    },
    {
      "cell_type": "markdown",
      "source": [
        "# question 21 .Write a code that takes two tuples as input and returns a new tuple containing elements that are common to both input tuples."
      ],
      "metadata": {
        "id": "xgEpJ5GbX7xq"
      }
    },
    {
      "cell_type": "code",
      "source": [
        "t1=(1,2,3,4,5)\n",
        "t2=(4,5,6,7,8)\n",
        "t3 = tuple(set(t1) & set(t2))\n",
        "print(t3)"
      ],
      "metadata": {
        "colab": {
          "base_uri": "https://localhost:8080/"
        },
        "id": "o5Zp4eFtYrCn",
        "outputId": "6c101a48-626c-4dc5-9609-6bdc2f5f9711"
      },
      "execution_count": 1,
      "outputs": [
        {
          "output_type": "stream",
          "name": "stdout",
          "text": [
            "(4, 5)\n"
          ]
        }
      ]
    },
    {
      "cell_type": "markdown",
      "source": [
        "# question 22. Create a code that prompts the user to enter two sets of integers separated by commas. Then print the intersection of these two sets."
      ],
      "metadata": {
        "id": "KzZPffdtY5ni"
      }
    },
    {
      "cell_type": "code",
      "source": [
        "s1 =input(\"enter the set of integers : \")\n",
        "s2 =input(\"enter the set of integers : \")\n",
        "s1 = set(map(int, s1.split(',')))\n",
        "s2 = set(map(int, s2.split(',')))\n",
        "s3 = s1.intersection(s2)\n",
        "print(s3)"
      ],
      "metadata": {
        "colab": {
          "base_uri": "https://localhost:8080/"
        },
        "id": "GY4Q31IFZbIa",
        "outputId": "8450a67a-e75e-408e-a421-cea268a6e3c6"
      },
      "execution_count": 2,
      "outputs": [
        {
          "output_type": "stream",
          "name": "stdout",
          "text": [
            "enter the set of integers : 1,2,3,4\n",
            "enter the set of integers : 1,4,5,6,7\n",
            "{1, 4}\n"
          ]
        }
      ]
    },
    {
      "cell_type": "markdown",
      "source": [
        "# question 23. Write a code to concatenate two tuples. The function should take two tuples as input and return a new tuple containing elements from both input tuples."
      ],
      "metadata": {
        "id": "hgBzxm3TZ_Dq"
      }
    },
    {
      "cell_type": "code",
      "source": [
        "def concatenate_tuples(t1, t2):\n",
        "  # Create a new tuple by concatenating t1 and t2\n",
        "  new_tuple = t1 + t2\n",
        "  return new_tuple\n",
        "\n",
        "\n",
        "t1 = (1, 2, 3)\n",
        "t2 = (4, 5, 6)\n",
        "result = concatenate_tuples(t1, t2)\n",
        "print(result)"
      ],
      "metadata": {
        "colab": {
          "base_uri": "https://localhost:8080/"
        },
        "id": "Mqg3UV4Paa7B",
        "outputId": "877481be-445b-4131-cf0e-3d167ebd1f81"
      },
      "execution_count": 3,
      "outputs": [
        {
          "output_type": "stream",
          "name": "stdout",
          "text": [
            "(1, 2, 3, 4, 5, 6)\n"
          ]
        }
      ]
    },
    {
      "cell_type": "markdown",
      "source": [
        "#24. Develop a code that prompts the user to input two sets of strings. Then, print the elements that are present in the first set but not in the second set.\n"
      ],
      "metadata": {
        "id": "ukrr9mrybvUV"
      }
    },
    {
      "cell_type": "code",
      "source": [
        "s1 =input(\"enter the set of strings : \")\n",
        "s2 =input(\"enter the set of strings : \")\n",
        "s1 = set(s1.split(','))\n",
        "s2 = set(s2.split(','))\n",
        "s3 = s1.difference(s2)\n",
        "print(s3)"
      ],
      "metadata": {
        "colab": {
          "base_uri": "https://localhost:8080/"
        },
        "id": "_WNuvGKObwy0",
        "outputId": "2fb19bf3-eb75-4eb6-c2cf-5ff5360fe177"
      },
      "execution_count": 4,
      "outputs": [
        {
          "output_type": "stream",
          "name": "stdout",
          "text": [
            "enter the set of strings : 1,2,3,4\n",
            "enter the set of strings : 3,4,5,6\n",
            "{'1', '2'}\n"
          ]
        }
      ]
    },
    {
      "cell_type": "markdown",
      "source": [
        "# 25. Create a code that takes a tuple and two integers as input. The function should return a new tuple containing elements from the original tuple within the specified range of indices.\n"
      ],
      "metadata": {
        "id": "MftRcCnecAda"
      }
    },
    {
      "cell_type": "code",
      "source": [
        "def extract_elements(t, start, end):\n",
        "  # Extract elements from the specified range\n",
        "  new_tuple = t[start:end+1]\n",
        "  return new_tuple\n",
        "\n",
        "t = (1, 2, 3, 4, 5, 6, 7, 8, 9)\n",
        "print(t)\n",
        "start = int(input(\"enter the start index : \"))\n",
        "end = int(input(\"enter the end index : \"))\n",
        "result = extract_elements(t, start, end)\n",
        "print(result)"
      ],
      "metadata": {
        "colab": {
          "base_uri": "https://localhost:8080/"
        },
        "id": "Pd1GLsCMcUH2",
        "outputId": "ecf3dd26-dfc7-4a32-9d8a-60013aa5a263"
      },
      "execution_count": 7,
      "outputs": [
        {
          "output_type": "stream",
          "name": "stdout",
          "text": [
            "(1, 2, 3, 4, 5, 6, 7, 8, 9)\n",
            "enter the start index : 1\n",
            "enter the end index : 5\n",
            "(2, 3, 4, 5, 6)\n"
          ]
        }
      ]
    },
    {
      "cell_type": "markdown",
      "source": [
        "# 26. Write a code that prompts the user to input two sets of characters. Then, print the union of these two sets.\n"
      ],
      "metadata": {
        "id": "zM71Lof3dFAP"
      }
    },
    {
      "cell_type": "code",
      "source": [
        "s1 =input(\"enter the set of characters : \")\n",
        "s2 =input(\"enter the set of characters : \")\n",
        "s1 = set(s1.split(','))\n",
        "s2 = set(s2.split(','))\n",
        "s3 = s1.union(s2)\n",
        "print(s3)"
      ],
      "metadata": {
        "colab": {
          "base_uri": "https://localhost:8080/"
        },
        "id": "CcQtZJRtdKXg",
        "outputId": "4ccaa8ce-52e3-4fdf-ba32-70eee271645f"
      },
      "execution_count": 10,
      "outputs": [
        {
          "output_type": "stream",
          "name": "stdout",
          "text": [
            "enter the set of characters : 1,2,3\n",
            "enter the set of characters : 3,4,5\n",
            "{'1', '3', '4', '2', '5'}\n"
          ]
        }
      ]
    },
    {
      "cell_type": "markdown",
      "source": [
        "# 27. Develop a code that takes a tuple of integers as input. The function should return the maximum and minimum values from the tuple using tuple unpacking.\n"
      ],
      "metadata": {
        "id": "VVYWpB1mdnfM"
      }
    },
    {
      "cell_type": "code",
      "source": [
        "def find_max_min(t):\n",
        "  # Unpack the tuple to find the maximum and minimum values\n",
        "  max_value = max(t)\n",
        "  min_value = min(t)\n",
        "  return max_value, min_value\n",
        "\n",
        "t = (1, 2, 3, 4, 5, 6, 7, 8, 9)\n",
        "max_value, min_value = find_max_min(t)\n",
        "print(\"Maximum value:\", max_value)\n",
        "print(\"Minimum value:\", min_value)\n"
      ],
      "metadata": {
        "colab": {
          "base_uri": "https://localhost:8080/"
        },
        "id": "TL18FQsZduSp",
        "outputId": "5cb3f818-6d78-483c-d7f7-b91c748f9412"
      },
      "execution_count": 12,
      "outputs": [
        {
          "output_type": "stream",
          "name": "stdout",
          "text": [
            "Maximum value: 9\n",
            "Minimum value: 1\n"
          ]
        }
      ]
    },
    {
      "cell_type": "markdown",
      "source": [
        "# 28. Create a code that defines two sets of integers. Then, print the union, intersection, and difference of these two sets.\n"
      ],
      "metadata": {
        "id": "gT1vNvR1eAe9"
      }
    },
    {
      "cell_type": "code",
      "source": [
        "s1= input(\"enter the set of integers : \")\n",
        "s2= input(\"enter the set of integers : \")\n",
        "s1 = set(s1.split(','))\n",
        "s2 = set(s2.split(','))\n",
        "print(s1.union(s2))\n",
        "print(s1.intersection(s2))\n",
        "print(s1.difference(s2))\n",
        "\n",
        "\n"
      ],
      "metadata": {
        "colab": {
          "base_uri": "https://localhost:8080/"
        },
        "id": "ZWlJ3UJaeKRX",
        "outputId": "78c399b2-8aca-4d4c-ab72-cab8adf6c64c"
      },
      "execution_count": 13,
      "outputs": [
        {
          "output_type": "stream",
          "name": "stdout",
          "text": [
            "enter the set of integers : 1,2,3,4\n",
            "enter the set of integers : 3,4,5,6,7\n",
            "{'1', '3', '5', '4', '2', '6', '7'}\n",
            "{'3', '4'}\n",
            "{'1', '2'}\n"
          ]
        }
      ]
    },
    {
      "cell_type": "markdown",
      "source": [
        "# 29. Write a code that takes a tuple and an element as input. The function should return the count of occurrences of the given element in the tuple.\n"
      ],
      "metadata": {
        "id": "93QaI81eesOi"
      }
    },
    {
      "cell_type": "code",
      "source": [
        "def count_occurrences(t, element):\n",
        "  # Initialize the count to 0\n",
        "  count = 0\n",
        "  # Iterate through the tuple and count occurrences of the element\n",
        "  for item in t:\n",
        "    if item == element:\n",
        "      count += 1\n",
        "  return count\n",
        "\n",
        "t = input(\"enter the tuple : \")\n",
        "t = tuple(map(int, t.split(',')))\n",
        "element = int(input(\"enter the element : \"))\n",
        "count = count_occurrences(t, element)\n",
        "print(\"Count of occurrences:\", count)\n",
        "\n"
      ],
      "metadata": {
        "colab": {
          "base_uri": "https://localhost:8080/"
        },
        "id": "DG39gKXme4_d",
        "outputId": "de3aa86c-51c4-42ae-8a53-31a0a7f25346"
      },
      "execution_count": 15,
      "outputs": [
        {
          "output_type": "stream",
          "name": "stdout",
          "text": [
            "enter the tuple : 1,1,1,2,3,4,4,5\n",
            "enter the element : 1\n",
            "Count of occurrences: 3\n"
          ]
        }
      ]
    },
    {
      "cell_type": "markdown",
      "source": [
        "# 30. Develop a code that prompts the user to input two sets of strings. Then, print the symmetric difference of these two sets.\n",
        "\n"
      ],
      "metadata": {
        "id": "JtZ5K_TTfgeC"
      }
    },
    {
      "cell_type": "code",
      "source": [
        "t1= input(\"enter the set of strings : \")\n",
        "t2= input(\"enter the set of strings : \")\n",
        "t1 = set(t1.split(','))\n",
        "t2 = set(t2.split(','))\n",
        "print(t1.symmetric_difference(t2))"
      ],
      "metadata": {
        "colab": {
          "base_uri": "https://localhost:8080/"
        },
        "id": "pMIRS5yQfn1n",
        "outputId": "000d87b6-bb6c-43c7-81d5-c40ab2813523"
      },
      "execution_count": 16,
      "outputs": [
        {
          "output_type": "stream",
          "name": "stdout",
          "text": [
            "enter the set of strings : 1,2,3,4,5\n",
            "enter the set of strings : 3,4,5,6,7,8\n",
            "{'1', '2', '6', '8', '7'}\n"
          ]
        }
      ]
    },
    {
      "cell_type": "markdown",
      "source": [
        "# 31. Write a code that takes a list of words as input and returns a dictionary where the keys are unique words and the values are the frequencies of those words in the input list.\n"
      ],
      "metadata": {
        "id": "q4iIMBp5gAvE"
      }
    },
    {
      "cell_type": "code",
      "source": [
        "d1 = input(\"enter the list of words : \")\n",
        "d1 = d1.split(',')\n",
        "d2 = {}\n",
        "for i in d1:\n",
        "    if i in d2:\n",
        "        d2[i] += 1\n",
        "    else:\n",
        "        d2[i] = 1\n",
        "print(d2)\n",
        "\n"
      ],
      "metadata": {
        "colab": {
          "base_uri": "https://localhost:8080/"
        },
        "id": "uFhhfQFDgIna",
        "outputId": "79b999e6-4d5e-4e3f-eea7-b62819bf7ef6"
      },
      "execution_count": 22,
      "outputs": [
        {
          "output_type": "stream",
          "name": "stdout",
          "text": [
            "enter the list of words : hello,word,surat,hello\n",
            "{'hello': 2, 'word': 1, 'surat': 1}\n"
          ]
        }
      ]
    },
    {
      "cell_type": "markdown",
      "source": [
        "# 32. Write a code that takes two dictionaries as input and merges them into a single dictionary. If there are common keys, the values should be added together."
      ],
      "metadata": {
        "id": "E4DtgpYzhbe-"
      }
    },
    {
      "cell_type": "code",
      "source": [
        "\n",
        "def merge_dicts(dict1, dict2):\n",
        "    # Create a new dictionary to store the merged results\n",
        "    merged_dict = {}\n",
        "\n",
        "    # Iterate over the first dictionary and add its items to the merged_dict\n",
        "    for key, value in dict1.items():\n",
        "        if key in merged_dict:\n",
        "            merged_dict[key] += value\n",
        "        else:\n",
        "            merged_dict[key] = value\n",
        "\n",
        "    # Iterate over the second dictionary and add its items to the merged_dict\n",
        "    for key, value in dict2.items():\n",
        "        if key in merged_dict:\n",
        "            merged_dict[key] += value\n",
        "        else:\n",
        "            merged_dict[key] = value\n",
        "\n",
        "    return merged_dict\n",
        "\n",
        "# Example usage:\n",
        "dict1 = {'a': 1, 'b': 2, 'c': 3}\n",
        "dict2 = {'b': 3, 'c': 4, 'd': 5}\n",
        "\n",
        "merged = merge_dicts(dict1, dict2)\n",
        "print(merged)\n"
      ],
      "metadata": {
        "colab": {
          "base_uri": "https://localhost:8080/"
        },
        "id": "-5MiVWvfhfqE",
        "outputId": "e6c4ac68-0cd2-4819-c2f8-289c1987f7db"
      },
      "execution_count": 24,
      "outputs": [
        {
          "output_type": "stream",
          "name": "stdout",
          "text": [
            "{'a': 1, 'b': 5, 'c': 7, 'd': 5}\n"
          ]
        }
      ]
    },
    {
      "cell_type": "markdown",
      "source": [
        "# 33. Write a code to access a value in a nested dictionary. The function should take the dictionary and a list of keys as input, and return the corresponding value. If any of the keys do not exist in the dictionary, the function should return None.\n"
      ],
      "metadata": {
        "id": "DDVPquQ2im3B"
      }
    },
    {
      "cell_type": "code",
      "source": [
        "def access_nested_dict(nested_dict, keys):\n",
        "  # Initialize the current dictionary to the nested_dict\n",
        "  current_dict = nested_dict\n",
        "\n",
        "  # Iterate through the list of keys\n",
        "  for key in keys:\n",
        "    # Check if the key exists in the current dictionary\n",
        "    if key in current_dict:\n",
        "      # If the key exists, update the current dictionary to the corresponding value\n",
        "      current_dict = current_dict[key]\n",
        "    else:\n",
        "      # If the key does not exist, return None\n",
        "      return None\n",
        "\n",
        "  # Return the value corresponding to the last key in the list\n",
        "  return current_dict\n",
        "\n",
        "d1 = {'a': {'b': {'c': 12 }}}\n",
        "keys = ['a', 'b', 'c']\n",
        "value = access_nested_dict(d1, keys)\n",
        "print(value)\n",
        "\n",
        "keyss = ['a', 'r', 'c']\n",
        "value1 = access_nested_dict(d1, keyss)\n",
        "print(value1)\n"
      ],
      "metadata": {
        "colab": {
          "base_uri": "https://localhost:8080/"
        },
        "id": "2CkxL0aAi1EA",
        "outputId": "ba4f4abb-0435-4f52-e7a0-bb3ebe72cac3"
      },
      "execution_count": 29,
      "outputs": [
        {
          "output_type": "stream",
          "name": "stdout",
          "text": [
            "12\n",
            "None\n"
          ]
        }
      ]
    },
    {
      "cell_type": "markdown",
      "source": [
        "# 34. Write a code that takes a dictionary as input and returns a sorted version of it based on the values. You can choose whether to sort in ascending or descending order.\n",
        "\n"
      ],
      "metadata": {
        "id": "Oa0cLyVCkHb0"
      }
    },
    {
      "cell_type": "code",
      "source": [
        "d1 = {'a': 10, 'b': 2, 'c': 3}\n",
        "d2 = dict(sorted(d1.items(), key=lambda x: x[1]))\n",
        "print(d2)"
      ],
      "metadata": {
        "colab": {
          "base_uri": "https://localhost:8080/"
        },
        "id": "3qK_HdHAkQdU",
        "outputId": "1cc41fbe-37d2-4b87-9e97-5bbfadbc8e4f"
      },
      "execution_count": 30,
      "outputs": [
        {
          "output_type": "stream",
          "name": "stdout",
          "text": [
            "{'b': 2, 'c': 3, 'a': 10}\n"
          ]
        }
      ]
    },
    {
      "cell_type": "markdown",
      "source": [
        "# 35. Write a code that inverts a dictionary, swapping keys and values. Ensure that the inverted dictionary correctly handles cases where multiple keys have the same value by storing the keys as a list in the inverted dictionary."
      ],
      "metadata": {
        "id": "73-kXnAak1zt"
      }
    },
    {
      "cell_type": "code",
      "source": [
        "d1 = {'hemangi': 10, 'mitali': 2, 'krinsi':10}\n",
        "d2 = {}\n",
        "for key, value in d1.items():\n",
        "    if value in d2:\n",
        "        d2[value].append(key)\n",
        "    else:\n",
        "        d2[value] = [key]\n",
        "print(d2)\n"
      ],
      "metadata": {
        "colab": {
          "base_uri": "https://localhost:8080/"
        },
        "id": "XlnJA11Mk6MI",
        "outputId": "51be4dd0-c443-4a44-ddad-fb79e8c58a25"
      },
      "execution_count": 34,
      "outputs": [
        {
          "output_type": "stream",
          "name": "stdout",
          "text": [
            "{10: ['hemangi', 'krinsi'], 2: ['mitali']}\n"
          ]
        }
      ]
    }
  ]
}